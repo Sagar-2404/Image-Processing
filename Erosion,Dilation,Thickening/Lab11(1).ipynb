{
 "cells": [
  {
   "cell_type": "code",
   "execution_count": 1,
   "metadata": {},
   "outputs": [],
   "source": [
    "import cv2\n",
    "import numpy as np\n",
    "\n",
    "def pruning(se):\n",
    "    image = cv2.imread(\"Fig0907(a)(text_gaps_1_and_2_pixels).tif\")\n",
    "    x1=image\n",
    "    x2= cv2.cvtColor(image, cv2.COLOR_BGR2GRAY)\n",
    "    x1 = cv2.ximgproc.thinning(cv2.cvtColor(x1, cv2.COLOR_RGB2GRAY))\n",
    "\n",
    "    for i in range(2):\n",
    "        x1 = cv2.ximgproc.thinning(x1)\n",
    "    for i in range(8):\n",
    "        x2 = cv2.morphologyEx(x2, cv2.MORPH_HITMISS, se[i])\n",
    "    x3 = cv2.dilate(x2, np.ones([3,3], dtype=np.uint8), iterations=3)\n",
    "    x3 = cv2.bitwise_and(x3, cv2.cvtColor(image, cv2.COLOR_BGR2GRAY))\n",
    "    x4 = cv2.bitwise_or(x1,x3)\n",
    "    cv2.imwrite(\"pruning.tif\",x4)\n",
    "\n",
    "se = []\n",
    "se.append(np.array([[0, 0, 0],\n",
    "                        [0, 1, 0],\n",
    "                        [2, 1, 2]]))\n",
    "se.append(np.array([[0, 0, 0],\n",
    "                        [0, 1, 2],\n",
    "                        [0, 2, 1]]))\n",
    "se.append(np.array([[0, 0, 2],\n",
    "                        [0, 1, 1],\n",
    "                        [0, 0, 2]]))\n",
    "se.append(np.array([[0, 2, 1],\n",
    "                        [0, 1, 2],\n",
    "                        [0, 0, 0]]))\n",
    "se.append(np.array([[2, 1, 2],\n",
    "                        [0, 1, 0],\n",
    "                        [0, 0, 0]]))\n",
    "se.append(np.array([[1, 2, 0],\n",
    "                        [2, 1, 0],\n",
    "                        [0, 0, 0]]))\n",
    "se.append(np.array([[2, 0, 0],\n",
    "                        [1, 1, 0],\n",
    "                        [2, 0, 0]]))\n",
    "se.append(np.array([[0, 0, 0],\n",
    "                        [2, 1, 0],\n",
    "                        [1, 2, 0]]))\n",
    "\n",
    "pruning(se)"
   ]
  },
  {
   "cell_type": "code",
   "execution_count": null,
   "metadata": {},
   "outputs": [],
   "source": []
  }
 ],
 "metadata": {
  "kernelspec": {
   "display_name": "Python 3",
   "language": "python",
   "name": "python3"
  },
  "language_info": {
   "codemirror_mode": {
    "name": "ipython",
    "version": 3
   },
   "file_extension": ".py",
   "mimetype": "text/x-python",
   "name": "python",
   "nbconvert_exporter": "python",
   "pygments_lexer": "ipython3",
   "version": "3.6.5"
  }
 },
 "nbformat": 4,
 "nbformat_minor": 2
}
